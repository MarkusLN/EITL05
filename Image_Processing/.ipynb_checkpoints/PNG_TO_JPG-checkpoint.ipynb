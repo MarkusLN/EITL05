{
 "cells": [
  {
   "cell_type": "code",
   "execution_count": 2,
   "id": "3930bce3",
   "metadata": {},
   "outputs": [],
   "source": [
    "from PIL import Image\n",
    "import os\n",
    "\n",
    "pngFolder = ''\n",
    "jpgFolder = ''\n",
    "listOfImages = os.listdir(oldFolder)\n",
    "\n",
    "for image in listOfImages:\n",
    "    im = Image.open(os.path.join(pngFolder, image))\n",
    "    rgb_im = im.convert('RGB')\n",
    "    rgb_im.save(os.path.join(jpgFolder, image[0:-4] + '.jpg'))"
   ]
  }
 ],
 "metadata": {
  "kernelspec": {
   "display_name": "Python 3",
   "language": "python",
   "name": "python3"
  },
  "language_info": {
   "codemirror_mode": {
    "name": "ipython",
    "version": 3
   },
   "file_extension": ".py",
   "mimetype": "text/x-python",
   "name": "python",
   "nbconvert_exporter": "python",
   "pygments_lexer": "ipython3",
   "version": "3.6.13"
  }
 },
 "nbformat": 4,
 "nbformat_minor": 5
}
