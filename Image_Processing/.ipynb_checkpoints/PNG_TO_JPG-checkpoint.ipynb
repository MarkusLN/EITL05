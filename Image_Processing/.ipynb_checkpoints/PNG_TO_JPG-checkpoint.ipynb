{
 "cells": [
  {
   "cell_type": "code",
   "execution_count": 2,
   "id": "3930bce3",
   "metadata": {},
   "outputs": [],
   "source": [
    "from PIL import Image\n",
    "import os\n",
    "\n",
    "oldFolder = 'C:\\\\Users\\\\ljung\\\\Desktop\\\\testDirectory\\\\old_foregrounds'\n",
    "newFolder = 'C:\\\\Users\\\\ljung\\\\Desktop\\\\testDirectory\\\\foregrounds'\n",
    "listOfImages = os.listdir(oldFolder)\n",
    "#print(listOfImages)\n",
    "\n",
    "for image in listOfImages:\n",
    "    im = Image.open(os.path.join(oldFolder, image))\n",
    "    rgb_im = im.convert('RGB')\n",
    "    rgb_im.save(os.path.join(newFolder, image[0:-4] + '.jpg'))"
   ]
  },
  {
   "cell_type": "code",
   "execution_count": null,
   "id": "88788628",
   "metadata": {},
   "outputs": [],
   "source": []
  },
  {
   "cell_type": "code",
   "execution_count": null,
   "id": "f45a1b85",
   "metadata": {},
   "outputs": [],
   "source": []
  }
 ],
 "metadata": {
  "kernelspec": {
   "display_name": "Python 3",
   "language": "python",
   "name": "python3"
  },
  "language_info": {
   "codemirror_mode": {
    "name": "ipython",
    "version": 3
   },
   "file_extension": ".py",
   "mimetype": "text/x-python",
   "name": "python",
   "nbconvert_exporter": "python",
   "pygments_lexer": "ipython3",
   "version": "3.6.13"
  }
 },
 "nbformat": 4,
 "nbformat_minor": 5
}
